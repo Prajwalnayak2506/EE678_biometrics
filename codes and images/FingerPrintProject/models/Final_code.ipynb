{
 "cells": [
  {
   "cell_type": "code",
   "execution_count": null,
   "metadata": {
    "vscode": {
     "languageId": "plaintext"
    }
   },
   "outputs": [],
   "source": [
    "import torch\n",
    "from torchvision import models\n",
    "\n",
    "# Load the ResNet50 model without pretrained weights\n",
    "resnet = models.resnet50()\n",
    "\n",
    "# Load your custom pretrained weights (e.g., from MoCo)\n",
    "weights_path = \"fingerprint_moco_weights.pth\"  # Make sure the path to your weights is correct\n",
    "resnet.load_state_dict(torch.load(weights_path), strict=False)\n",
    "\n",
    "# Print the model to verify the weights are loaded\n",
    "print(resnet)\n",
    "\n",
    "# Optionally, save the modified model for future use (if needed)\n",
    "# torch.save(resnet.state_dict(), \"modified_resnet.pth\")\n",
    "\n",
    "# Optionally, move the model to GPU if available\n",
    "# device = torch.device('cuda' if torch.cuda.is_available() else 'cpu')\n",
    "# resnet = resnet.to(device)\n"
   ]
  }
 ],
 "metadata": {
  "language_info": {
   "name": "python"
  }
 },
 "nbformat": 4,
 "nbformat_minor": 2
}
